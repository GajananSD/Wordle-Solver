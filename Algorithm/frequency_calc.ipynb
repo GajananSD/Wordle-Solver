{
 "cells": [
  {
   "cell_type": "code",
   "execution_count": 1,
   "metadata": {},
   "outputs": [],
   "source": [
    "with open(\"../words.txt\",'r') as file:\n",
    "    freq={}\n",
    "    for word in file:\n",
    "        for letter in word[:5]:\n",
    "            if letter in freq:\n",
    "                freq[letter] += 1\n",
    "            else:\n",
    "                freq[letter] = 1"
   ]
  },
  {
   "cell_type": "code",
   "execution_count": 2,
   "metadata": {},
   "outputs": [],
   "source": [
    "freq = dict(sorted(freq.items()))"
   ]
  },
  {
   "cell_type": "code",
   "execution_count": 3,
   "metadata": {},
   "outputs": [
    {
     "data": {
      "image/png": "[encoded data removed]",
      "text/plain": [
       "<Figure size 1080x720 with 1 Axes>"
      ]
     },
     "metadata": {
      "needs_background": "light"
     },
     "output_type": "display_data"
    }
   ],
   "source": [
    "import matplotlib.pyplot as plt\n",
    "names = list(freq.keys())\n",
    "values = list(freq.values())\n",
    "plt.figure(figsize=(15, 10))\n",
    "plt.bar(range(len(freq)), values, tick_label=names)\n",
    "plt.title(\"Letter Frequency Bar Plot\")\n",
    "plt.xlabel(\"Letters\")\n",
    "plt.ylabel(\"Frequency\")\n",
    "plt.show()\n"
   ]
  },
  {
   "cell_type": "code",
   "execution_count": 4,
   "metadata": {},
   "outputs": [
    {
     "data": {
      "text/plain": [
       "{'a': 6484,\n",
       " 'e': 5917,\n",
       " 's': 4791,\n",
       " 'r': 4050,\n",
       " 'o': 4020,\n",
       " 'i': 3814,\n",
       " 'l': 3327,\n",
       " 't': 3210,\n",
       " 'n': 3114,\n",
       " 'u': 2645,\n",
       " 'd': 2174,\n",
       " 'c': 2105,\n",
       " 'y': 1979,\n",
       " 'm': 1928,\n",
       " 'p': 1815,\n",
       " 'h': 1811,\n",
       " 'b': 1618,\n",
       " 'g': 1498,\n",
       " 'k': 1356,\n",
       " 'f': 958,\n",
       " 'w': 950,\n",
       " 'v': 647,\n",
       " 'z': 357,\n",
       " 'x': 293,\n",
       " 'j': 275,\n",
       " 'q': 109}"
      ]
     },
     "execution_count": 4,
     "metadata": {},
     "output_type": "execute_result"
    }
   ],
   "source": [
    "freq = dict(sorted(freq.items(), key=lambda item: item[1], reverse=True))\n",
    "freq"
   ]
  },
  {
   "cell_type": "code",
   "execution_count": 5,
   "metadata": {},
   "outputs": [],
   "source": [
    "keys = list(freq.keys())"
   ]
  },
  {
   "cell_type": "markdown",
   "metadata": {},
   "source": [
    "**# Most occuring 5 letters**"
   ]
  },
  {
   "cell_type": "code",
   "execution_count": 35,
   "metadata": {},
   "outputs": [
    {
     "name": "stdout",
     "output_type": "stream",
     "text": [
      "a e s r o\n"
     ]
    }
   ],
   "source": [
    "set1 = keys[:5]\n",
    "print(\" \".join(set1))"
   ]
  },
  {
   "cell_type": "markdown",
   "metadata": {},
   "source": [
    "word formed using these letters : **[arose]**"
   ]
  },
  {
   "cell_type": "markdown",
   "metadata": {},
   "source": [
    "**# Most occuring 10 letters**"
   ]
  },
  {
   "cell_type": "code",
   "execution_count": 36,
   "metadata": {},
   "outputs": [
    {
     "name": "stdout",
     "output_type": "stream",
     "text": [
      "a e s r o i l t n u\n"
     ]
    }
   ],
   "source": [
    "set2 = keys[:10]\n",
    "print(\" \".join(set2))"
   ]
  },
  {
   "cell_type": "markdown",
   "metadata": {},
   "source": [
    "word formed using these letters : **[saint, loure]**"
   ]
  },
  {
   "cell_type": "markdown",
   "metadata": {},
   "source": [
    "**# Most occuring 15 letters**"
   ]
  },
  {
   "cell_type": "code",
   "execution_count": 37,
   "metadata": {},
   "outputs": [
    {
     "name": "stdout",
     "output_type": "stream",
     "text": [
      "a e s r o i l t n u d c y m p\n"
     ]
    }
   ],
   "source": [
    "set3 = keys[:15]\n",
    "print(\" \".join(set3))"
   ]
  },
  {
   "cell_type": "markdown",
   "metadata": {},
   "source": [
    "word formed using these letters : **[riots, plume, candy]**"
   ]
  },
  {
   "cell_type": "markdown",
   "metadata": {},
   "source": [
    "**# Most occuring 20 letters**"
   ]
  },
  {
   "cell_type": "code",
   "execution_count": 34,
   "metadata": {},
   "outputs": [
    {
     "name": "stdout",
     "output_type": "stream",
     "text": [
      "a e s r o i l t n u d c y m p h b g k f\n"
     ]
    }
   ],
   "source": [
    "set4 = keys[:20]\n",
    "print(\" \".join(set4))"
   ]
  },
  {
   "cell_type": "markdown",
   "metadata": {},
   "source": [
    "word formed using these letters : **[shelf, dirty, bacon, grump]**"
   ]
  },
  {
   "cell_type": "markdown",
   "metadata": {},
   "source": [
    "**# Most occuring 25 letters**"
   ]
  },
  {
   "cell_type": "code",
   "execution_count": 38,
   "metadata": {},
   "outputs": [
    {
     "name": "stdout",
     "output_type": "stream",
     "text": [
      "a e s r o i l t n u d c y m p h b g k f w v z x j\n"
     ]
    }
   ],
   "source": [
    "set5 = keys[:25]\n",
    "print(\" \".join(set5))"
   ]
  },
  {
   "cell_type": "markdown",
   "metadata": {},
   "source": [
    "word formed using these letters : **[fjord, gucks, nymph, vibex, waltz]**"
   ]
  }
 ],
 "metadata": {
  "kernelspec": {
   "display_name": "Python 3",
   "language": "python",
   "name": "python3"
  },
  "language_info": {
   "codemirror_mode": {
    "name": "ipython",
    "version": 3
   },
   "file_extension": ".py",
   "mimetype": "text/x-python",
   "name": "python",
   "nbconvert_exporter": "python",
   "pygments_lexer": "ipython3",
   "version": "3.9.7"
  }
 },
 "nbformat": 4,
 "nbformat_minor": 2
}
