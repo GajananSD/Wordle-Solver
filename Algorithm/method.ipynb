{
  "cells": [
    {
      "cell_type": "code",
      "execution_count": null,
      "metadata": {
        "id": "Z1Ba9RmY-eEq"
      },
      "outputs": [],
      "source": [
        "import my_function\n",
        "with open(\"../words.txt\", \"r\") as file:\n",
        "    words_db = [line.strip() for line in file]  # Read lines and remove newline characters"
      ]
    },
    {
      "cell_type": "code",
      "execution_count": 1,
      "metadata": {
        "id": "ajYXFowlIuyZ"
      },
      "outputs": [],
      "source": [
        "import matplotlib.pyplot as plt\n",
        "import numpy as np"
      ]
    },
    {
      "cell_type": "markdown",
      "metadata": {
        "id": "6hhTQuHI-eEr"
      },
      "source": [
        "## Method - 1"
      ]
    },
    {
      "cell_type": "code",
      "execution_count": null,
      "metadata": {
        "colab": {
          "base_uri": "https://localhost:8080/"
        },
        "id": "_uEp0TO4-eEr",
        "outputId": "9709d96e-8a41-4bac-c855-dab10887b851"
      },
      "outputs": [
        {
          "name": "stdout",
          "output_type": "stream",
          "text": [
            "Words Done : 12250 \n",
            "\n",
            "{5: 5991, 4: 3451, 3: 241, 6: 2038, 2: 33, 7: 393, 1: 1, 8: 95, 9: 7}\n"
          ]
        }
      ],
      "source": [
        "initial_guess = ['arose']\n",
        "word_guess_count_freq1 = {}\n",
        "cnt=0\n",
        "epochs = 20\n",
        "for secret_word in words_db:\n",
        "    sum_NumberOfGuess = 0\n",
        "    for epoch in range(epochs):\n",
        "        sum_NumberOfGuess += my_function.main(initial_guess, secret_word)\n",
        "    mean_NumberOfGuess = round(sum_NumberOfGuess/epochs)\n",
        "    if mean_NumberOfGuess not in word_guess_count_freq1:\n",
        "        word_guess_count_freq1[mean_NumberOfGuess] = 1\n",
        "    else:\n",
        "        word_guess_count_freq1[mean_NumberOfGuess] += 1\n",
        "    cnt += 1\n",
        "    print(f\"\\rWords Done : {cnt}\", end = \" \", flush = True)\n",
        "print('\\n')\n",
        "print(word_guess_count_freq1)"
      ]
    },
    {
      "cell_type": "code",
      "execution_count": 6,
      "metadata": {
        "colab": {
          "base_uri": "https://localhost:8080/",
          "height": 487
        },
        "id": "O4W83kGeIxze",
        "outputId": "0779f288-870a-4114-e9a0-18ee7e232db8"
      },
      "outputs": [
        {
          "data": {
            "image/png": "[encoded data removed]",
            "text/plain": [
              "<Figure size 576x576 with 1 Axes>"
            ]
          },
          "metadata": {
            "needs_background": "light"
          },
          "output_type": "display_data"
        }
      ],
      "source": [
        "# Extract keys and values\n",
        "x1 = list(word_guess_count_freq1.keys())\n",
        "y1 = list(word_guess_count_freq1.values())\n",
        "\n",
        "# Plot\n",
        "plt.figure(figsize=(8, 8))\n",
        "plt.bar(x1, y1, color='steelblue', edgecolor='black')\n",
        "\n",
        "# Add labels above bars\n",
        "for i, freq in zip(x1, y1):\n",
        "    plt.text(i, freq + max(y1) * 0.02, str(freq), ha='center', color='red', fontsize=10)\n",
        "\n",
        "# Labels and title\n",
        "plt.xlabel(\"No. of guesses required\")\n",
        "plt.ylabel(\"No of words guessed\")\n",
        "plt.title(\"Method-1\")\n",
        "plt.xticks(sorted(x1))\n",
        "# Show plot\n",
        "plt.show()"
      ]
    },
    {
      "cell_type": "code",
      "execution_count": null,
      "metadata": {
        "colab": {
          "base_uri": "https://localhost:8080/"
        },
        "id": "qIQLWo31JDOA",
        "outputId": "6c719532-9a5b-4c5e-aecb-0efe7550c2fa"
      },
      "outputs": [
        {
          "name": "stdout",
          "output_type": "stream",
          "text": [
            "Mean: 4.93\n",
            "Variance: 0.75\n"
          ]
        }
      ],
      "source": [
        "# Compute mean and variance\n",
        "mean1 = np.average(x1, weights=y1)  # Weighted mean\n",
        "variance1 = np.average((np.array(x1) - mean1) ** 2, weights=y1)  # Weighted variance\n",
        "print(f\"Mean: {round(mean1,2)}\")\n",
        "print(f\"Variance: {round(variance1,2)}\")"
      ]
    },
    {
      "cell_type": "markdown",
      "metadata": {
        "id": "UNuFBRoT-eEs"
      },
      "source": [
        "## Method - 2"
      ]
    },
    {
      "cell_type": "code",
      "execution_count": null,
      "metadata": {
        "colab": {
          "base_uri": "https://localhost:8080/"
        },
        "id": "QovhSEpN-eEs",
        "outputId": "9013a08c-0420-4162-f250-62abcf3d7739"
      },
      "outputs": [
        {
          "name": "stdout",
          "output_type": "stream",
          "text": [
            "Words Done : 12250 \n",
            "\n",
            "{5: 4359, 6: 1405, 4: 4788, 3: 1318, 7: 316, 8: 57, 10: 1, 9: 4, 2: 1, 1: 1}\n"
          ]
        }
      ],
      "source": [
        "initial_guess = ['saint','loure']\n",
        "word_guess_count_freq2 = {}\n",
        "epochs = 20\n",
        "cnt=0\n",
        "for secret_word in words_db:\n",
        "    sum_NumberOfGuess = 0\n",
        "    for epoch in range(epochs):\n",
        "        sum_NumberOfGuess += my_function.main(initial_guess, secret_word)\n",
        "    mean_NumberOfGuess = round(sum_NumberOfGuess/epochs)\n",
        "    if mean_NumberOfGuess not in word_guess_count_freq2:\n",
        "        word_guess_count_freq2[mean_NumberOfGuess] = 1\n",
        "    else:\n",
        "        word_guess_count_freq2[mean_NumberOfGuess] += 1\n",
        "    cnt += 1\n",
        "    print(f\"\\rWords Done : {cnt}\", end = \" \", flush = True)\n",
        "print('\\n')\n",
        "print(word_guess_count_freq2)"
      ]
    },
    {
      "cell_type": "code",
      "execution_count": 8,
      "metadata": {
        "colab": {
          "base_uri": "https://localhost:8080/",
          "height": 487
        },
        "id": "4xf4Kf-GNBxN",
        "outputId": "c6af1bf3-75b0-427d-8172-36628030fc2a"
      },
      "outputs": [
        {
          "data": {
            "image/png": "[encoded data removed]",
            "text/plain": [
              "<Figure size 576x576 with 1 Axes>"
            ]
          },
          "metadata": {
            "needs_background": "light"
          },
          "output_type": "display_data"
        }
      ],
      "source": [
        "# Extract keys and values\n",
        "x2 = list(word_guess_count_freq2.keys())\n",
        "y2 = list(word_guess_count_freq2.values())\n",
        "\n",
        "# Plot\n",
        "plt.figure(figsize=(8, 8))\n",
        "plt.bar(x2, y2, color='steelblue', edgecolor='black')\n",
        "\n",
        "# Add labels above bars\n",
        "for i, freq in zip(x2, y2):\n",
        "    plt.text(i, freq + max(y2) * 0.02, str(freq), ha='center', color='red', fontsize=10)\n",
        "\n",
        "# Labels and title\n",
        "plt.xlabel(\"No. of guesses required\")\n",
        "plt.ylabel(\"No of words guessed\")\n",
        "plt.title(\"Method-2\")\n",
        "plt.xticks(sorted(x2))\n",
        "# Show plot\n",
        "plt.show()"
      ]
    },
    {
      "cell_type": "code",
      "execution_count": null,
      "metadata": {
        "colab": {
          "base_uri": "https://localhost:8080/"
        },
        "id": "5EAaO6J7Nmls",
        "outputId": "b266548c-5ed6-42d6-a780-c5d70a3335bf"
      },
      "outputs": [
        {
          "name": "stdout",
          "output_type": "stream",
          "text": [
            "Mean: 4.58\n",
            "Variance: 0.91\n"
          ]
        }
      ],
      "source": [
        "# Compute mean and variance\n",
        "mean2 = np.average(x2, weights=y2)  # Weighted mean\n",
        "variance2 = np.average((np.array(x2) - mean2) ** 2, weights=y2)  # Weighted variance\n",
        "print(f\"Mean: {round(mean2,2)}\")\n",
        "print(f\"Variance: {round(variance2,2)}\")"
      ]
    },
    {
      "cell_type": "markdown",
      "metadata": {
        "id": "gAK55Q6X-eEs"
      },
      "source": [
        "## Method - 3"
      ]
    },
    {
      "cell_type": "code",
      "execution_count": null,
      "metadata": {
        "colab": {
          "base_uri": "https://localhost:8080/"
        },
        "id": "fGrMtFOF-eEt",
        "outputId": "47d26306-10ad-4ef7-9ed7-988ab50b5ea3"
      },
      "outputs": [
        {
          "name": "stdout",
          "output_type": "stream",
          "text": [
            "Words Done : 12250 \n",
            "\n",
            "{5: 4959, 6: 987, 4: 6121, 7: 167, 8: 13, 3: 1, 2: 1, 1: 1}\n"
          ]
        }
      ],
      "source": [
        "initial_guess = ['riots','plume', 'candy']\n",
        "word_guess_count_freq3 = {}\n",
        "epochs = 20\n",
        "cnt=0\n",
        "for secret_word in words_db:\n",
        "    sum_NumberOfGuess = 0\n",
        "    for epoch in range(epochs):\n",
        "        sum_NumberOfGuess += my_function.main(initial_guess, secret_word)\n",
        "    mean_NumberOfGuess = round(sum_NumberOfGuess/epochs)\n",
        "    if mean_NumberOfGuess not in word_guess_count_freq3:\n",
        "        word_guess_count_freq3[mean_NumberOfGuess] = 1\n",
        "    else:\n",
        "        word_guess_count_freq3[mean_NumberOfGuess] += 1\n",
        "    cnt += 1\n",
        "    print(f\"\\rWords Done : {cnt}\", end = \" \", flush = True)\n",
        "print('\\n')\n",
        "print(word_guess_count_freq3)"
      ]
    },
    {
      "cell_type": "code",
      "execution_count": 11,
      "metadata": {
        "colab": {
          "base_uri": "https://localhost:8080/",
          "height": 487
        },
        "id": "cU0ufK0Fd58n",
        "outputId": "d049628d-8f62-4913-e555-3b6a1f5eaf66"
      },
      "outputs": [
        {
          "data": {
            "image/png": "[encoded data removed]",
            "text/plain": [
              "<Figure size 576x576 with 1 Axes>"
            ]
          },
          "metadata": {
            "needs_background": "light"
          },
          "output_type": "display_data"
        }
      ],
      "source": [
        "# Extract keys and values\n",
        "x3 = list(word_guess_count_freq3.keys())\n",
        "y3 = list(word_guess_count_freq3.values())\n",
        "\n",
        "# Plot\n",
        "plt.figure(figsize=(8, 8))\n",
        "plt.bar(x3, y3, color='steelblue', edgecolor='black')\n",
        "\n",
        "# Add labels above bars\n",
        "for i, freq in zip(x3, y3):\n",
        "    plt.text(i, freq + max(y3) * 0.02, str(freq), ha='center', color='red', fontsize=10)\n",
        "\n",
        "# Labels and title\n",
        "plt.xlabel(\"No. of guesses required\")\n",
        "plt.ylabel(\"No of words guessed\")\n",
        "plt.title(\"Method-3\")\n",
        "plt.xticks(sorted(x3))\n",
        "# Show plot\n",
        "plt.show()"
      ]
    },
    {
      "cell_type": "code",
      "execution_count": null,
      "metadata": {
        "colab": {
          "base_uri": "https://localhost:8080/"
        },
        "id": "nDaqOqQveF23",
        "outputId": "4de3c158-e616-4dca-aaa7-57617e8d8ce2"
      },
      "outputs": [
        {
          "name": "stdout",
          "output_type": "stream",
          "text": [
            "Mean: 4.61\n",
            "Variance: 0.5\n"
          ]
        }
      ],
      "source": [
        "# Compute mean and variance\n",
        "mean3 = np.average(x3, weights=y3)  # Weighted mean\n",
        "variance3 = np.average((np.array(x3) - mean3) ** 2, weights=y3)  # Weighted variance\n",
        "print(f\"Mean: {round(mean3,2)}\")\n",
        "print(f\"Variance: {round(variance3,2)}\")"
      ]
    },
    {
      "cell_type": "markdown",
      "metadata": {
        "id": "GquZ4QgL-eEt"
      },
      "source": [
        "## Method - 4"
      ]
    },
    {
      "cell_type": "code",
      "execution_count": 3,
      "metadata": {
        "colab": {
          "base_uri": "https://localhost:8080/"
        },
        "id": "Pj7m-W2d-eEt",
        "outputId": "03f01e51-4c45-494c-bc75-be1f9c72d568"
      },
      "outputs": [
        {
          "name": "stdout",
          "output_type": "stream",
          "text": [
            "Words Done : 12250 \n",
            "\n",
            "{5: 9325, 6: 2832, 7: 84, 3: 1, 8: 5, 2: 1, 4: 1, 1: 1}\n"
          ]
        }
      ],
      "source": [
        "initial_guess = ['shelf','dirty', 'bacon', 'grump']\n",
        "word_guess_count_freq4 = {}\n",
        "epochs = 20\n",
        "cnt=0\n",
        "for secret_word in words_db:\n",
        "    sum_NumberOfGuess = 0\n",
        "    for epoch in range(epochs):\n",
        "        sum_NumberOfGuess += my_function.main(initial_guess, secret_word)\n",
        "    mean_NumberOfGuess = round(sum_NumberOfGuess/epochs)\n",
        "    if mean_NumberOfGuess not in word_guess_count_freq4:\n",
        "        word_guess_count_freq4[mean_NumberOfGuess] = 1\n",
        "    else:\n",
        "        word_guess_count_freq4[mean_NumberOfGuess] += 1\n",
        "    cnt += 1\n",
        "    print(f\"\\rWords Done : {cnt}\", end = \" \", flush = True)\n",
        "print('\\n')\n",
        "print(word_guess_count_freq4)"
      ]
    },
    {
      "cell_type": "code",
      "execution_count": 13,
      "metadata": {
        "colab": {
          "base_uri": "https://localhost:8080/",
          "height": 487
        },
        "id": "e7lV-3CJ2jBO",
        "outputId": "054658c7-1e5c-40ea-a928-409d8d50ca97"
      },
      "outputs": [
        {
          "data": {
            "image/png": "[encoded data removed]",
            "text/plain": [
              "<Figure size 576x576 with 1 Axes>"
            ]
          },
          "metadata": {
            "needs_background": "light"
          },
          "output_type": "display_data"
        }
      ],
      "source": [
        "# Extract keys and values\n",
        "x4 = list(word_guess_count_freq4.keys())\n",
        "y4 = list(word_guess_count_freq4.values())\n",
        "\n",
        "# Plot\n",
        "plt.figure(figsize=(8, 8))\n",
        "plt.bar(x4, y4, color='steelblue', edgecolor='black')\n",
        "\n",
        "# Add labels above bars\n",
        "for i, freq in zip(x4, y4):\n",
        "    plt.text(i, freq + max(y4) * 0.02, str(freq), ha='center', color='red', fontsize=10)\n",
        "\n",
        "# Labels and title\n",
        "plt.xlabel(\"No. of guesses required\")\n",
        "plt.ylabel(\"No of words guessed\")\n",
        "plt.title(\"Method-4\")\n",
        "plt.xticks(sorted(x4))\n",
        "# Show plot\n",
        "plt.show()"
      ]
    },
    {
      "cell_type": "code",
      "execution_count": 6,
      "metadata": {
        "colab": {
          "base_uri": "https://localhost:8080/"
        },
        "id": "a82o0-zx2qqB",
        "outputId": "ab7e946d-8c5d-4a7e-a2f5-f3d9606e4662"
      },
      "outputs": [
        {
          "name": "stdout",
          "output_type": "stream",
          "text": [
            "Mean: 5.25\n",
            "Variance: 0.2\n"
          ]
        }
      ],
      "source": [
        "# Compute mean and variance\n",
        "mean4 = np.average(x4, weights=y4)  # Weighted mean\n",
        "variance4 = np.average((np.array(x4) - mean4) ** 2, weights=y4)  # Weighted variance\n",
        "print(f\"Mean: {round(mean4,2)}\")\n",
        "print(f\"Variance: {round(variance4,2)}\")"
      ]
    },
    {
      "cell_type": "markdown",
      "metadata": {
        "id": "F8LaZeRU-eEt"
      },
      "source": [
        "## Method - 5"
      ]
    },
    {
      "cell_type": "code",
      "execution_count": 7,
      "metadata": {
        "colab": {
          "base_uri": "https://localhost:8080/"
        },
        "id": "5tHzYOjY-eEt",
        "outputId": "78ae8134-040f-4772-fb6f-f6c2f00f35d4"
      },
      "outputs": [
        {
          "name": "stdout",
          "output_type": "stream",
          "text": [
            "Words Done : 12250 \n",
            "\n",
            "{6: 11416, 7: 829, 1: 1, 2: 1, 3: 1, 4: 1, 5: 1}\n"
          ]
        }
      ],
      "source": [
        "initial_guess = ['fjord', 'gucks', 'nymph', 'vibex', 'waltz']\n",
        "word_guess_count_freq5 = {}\n",
        "epochs = 20\n",
        "cnt=0\n",
        "for secret_word in words_db:\n",
        "    sum_NumberOfGuess = 0\n",
        "    for epoch in range(epochs):\n",
        "        sum_NumberOfGuess += my_function.main(initial_guess, secret_word)\n",
        "    mean_NumberOfGuess = round(sum_NumberOfGuess/epochs)\n",
        "    if mean_NumberOfGuess not in word_guess_count_freq5:\n",
        "        word_guess_count_freq5[mean_NumberOfGuess] = 1\n",
        "    else:\n",
        "        word_guess_count_freq5[mean_NumberOfGuess] += 1\n",
        "    cnt += 1\n",
        "    print(f\"\\rWords Done : {cnt}\", end = \" \", flush = True)\n",
        "print('\\n')\n",
        "print(word_guess_count_freq5)"
      ]
    },
    {
      "cell_type": "code",
      "execution_count": 15,
      "metadata": {
        "colab": {
          "base_uri": "https://localhost:8080/",
          "height": 487
        },
        "id": "rhSLdvr-II4r",
        "outputId": "735cbf05-6b82-439a-bf6a-7915273a00b6"
      },
      "outputs": [
        {
          "data": {
            "image/png": "[encoded data removed]",
            "text/plain": [
              "<Figure size 576x576 with 1 Axes>"
            ]
          },
          "metadata": {
            "needs_background": "light"
          },
          "output_type": "display_data"
        }
      ],
      "source": [
        "# Extract keys and values\n",
        "x5 = list(word_guess_count_freq5.keys())\n",
        "y5 = list(word_guess_count_freq5.values())\n",
        "\n",
        "# Plot\n",
        "plt.figure(figsize=(8, 8))\n",
        "plt.bar(x5, y5, color='steelblue', edgecolor='black')\n",
        "\n",
        "# Add labels above bars\n",
        "for i, freq in zip(x5, y5):\n",
        "    plt.text(i, freq + max(y5) * 0.02, str(freq), ha='center', color='red', fontsize=10)\n",
        "\n",
        "# Labels and title\n",
        "plt.xlabel(\"No. of guesses required\")\n",
        "plt.ylabel(\"No of words guessed\")\n",
        "plt.title(\"Method-5\")\n",
        "plt.xticks(sorted(x5))\n",
        "# Show plot\n",
        "plt.show()"
      ]
    },
    {
      "cell_type": "code",
      "execution_count": 9,
      "metadata": {
        "colab": {
          "base_uri": "https://localhost:8080/"
        },
        "id": "Dn--wDZcIPSc",
        "outputId": "3fd7fa64-9084-4de9-b593-928fbe0ce8d5"
      },
      "outputs": [
        {
          "name": "stdout",
          "output_type": "stream",
          "text": [
            "Mean: 6.07\n",
            "Variance: 0.07\n"
          ]
        }
      ],
      "source": [
        "# Compute mean and variance\n",
        "mean5 = np.average(x5, weights=y5)  # Weighted mean\n",
        "variance5 = np.average((np.array(x5) - mean5) ** 2, weights=y5)  # Weighted variance\n",
        "print(f\"Mean: {round(mean5,2)}\")\n",
        "print(f\"Variance: {round(variance5,2)}\")"
      ]
    }
  ],
  "metadata": {
    "colab": {
      "provenance": []
    },
    "kernelspec": {
      "display_name": "Python 3",
      "language": "python",
      "name": "python3"
    },
    "language_info": {
      "codemirror_mode": {
        "name": "ipython",
        "version": 3
      },
      "file_extension": ".py",
      "mimetype": "text/x-python",
      "name": "python",
      "nbconvert_exporter": "python",
      "pygments_lexer": "ipython3",
      "version": "3.9.7"
    }
  },
  "nbformat": 4,
  "nbformat_minor": 0
}
