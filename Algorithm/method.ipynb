{
 "cells": [
  {
   "cell_type": "code",
   "execution_count": 11,
   "metadata": {},
   "outputs": [],
   "source": [
    "import my_function\n",
    "with open(\"../words.txt\", \"r\") as file:\n",
    "    words_db = [line.strip() for line in file]  # Read lines and remove newline characters"
   ]
  },
  {
   "cell_type": "markdown",
   "metadata": {},
   "source": [
    "## Method - 1"
   ]
  },
  {
   "cell_type": "code",
   "execution_count": 16,
   "metadata": {},
   "outputs": [
    {
     "name": "stdout",
     "output_type": "stream",
     "text": [
      "{5: 47, 4: 44, 3: 6, 6: 3}\n"
     ]
    }
   ],
   "source": [
    "initial_guess = ['arose']\n",
    "word_guess_count_freq1 = {}\n",
    "cnt=0\n",
    "epochs = 20\n",
    "for secret_word in words_db:\n",
    "    sum_NumberOfGuess = 0\n",
    "    for epoch in range(epochs):\n",
    "        sum_NumberOfGuess += my_function.main(initial_guess, secret_word)\n",
    "    mean_NumberOfGuess = round(sum_NumberOfGuess/epochs)\n",
    "    if mean_NumberOfGuess not in word_guess_count_freq1:\n",
    "        word_guess_count_freq1[mean_NumberOfGuess] = 1\n",
    "    else:\n",
    "        word_guess_count_freq1[mean_NumberOfGuess] += 1\n",
    "    cnt += 1\n",
    "    if cnt>99:\n",
    "        break\n",
    "print(word_guess_count_freq1)"
   ]
  },
  {
   "cell_type": "markdown",
   "metadata": {},
   "source": [
    "## Method - 2"
   ]
  },
  {
   "cell_type": "code",
   "execution_count": 17,
   "metadata": {},
   "outputs": [
    {
     "name": "stdout",
     "output_type": "stream",
     "text": [
      "{5: 48, 6: 5, 4: 46, 3: 1}\n"
     ]
    }
   ],
   "source": [
    "initial_guess = ['saint','loure']\n",
    "word_guess_count_freq2 = {}\n",
    "epochs = 20\n",
    "cnt=0\n",
    "for secret_word in words_db:\n",
    "    sum_NumberOfGuess = 0\n",
    "    for epoch in range(epochs):\n",
    "        sum_NumberOfGuess += my_function.main(initial_guess, secret_word)\n",
    "    mean_NumberOfGuess = round(sum_NumberOfGuess/epochs)\n",
    "    if mean_NumberOfGuess not in word_guess_count_freq2:\n",
    "        word_guess_count_freq2[mean_NumberOfGuess] = 1\n",
    "    else:\n",
    "        word_guess_count_freq2[mean_NumberOfGuess] += 1\n",
    "    cnt += 1\n",
    "    if cnt>99:\n",
    "        break\n",
    "print(word_guess_count_freq2)"
   ]
  },
  {
   "cell_type": "markdown",
   "metadata": {},
   "source": [
    "## Method - 3"
   ]
  },
  {
   "cell_type": "code",
   "execution_count": 21,
   "metadata": {},
   "outputs": [
    {
     "name": "stdout",
     "output_type": "stream",
     "text": [
      "{5: 147, 6: 15, 4: 139}\n"
     ]
    }
   ],
   "source": [
    "initial_guess = ['riots','plume', 'candy']\n",
    "word_guess_count_freq3 = {}\n",
    "epochs = 20\n",
    "cnt=0\n",
    "for secret_word in words_db:\n",
    "    sum_NumberOfGuess = 0\n",
    "    for epoch in range(epochs):\n",
    "        sum_NumberOfGuess += my_function.main(initial_guess, secret_word)\n",
    "    mean_NumberOfGuess = round(sum_NumberOfGuess/epochs)\n",
    "    if mean_NumberOfGuess not in word_guess_count_freq3:\n",
    "        word_guess_count_freq3[mean_NumberOfGuess] = 1\n",
    "    else:\n",
    "        word_guess_count_freq3[mean_NumberOfGuess] += 1\n",
    "    cnt += 1\n",
    "    if cnt>300:\n",
    "        break\n",
    "print(word_guess_count_freq3)"
   ]
  },
  {
   "cell_type": "markdown",
   "metadata": {},
   "source": [
    "## Method - 4"
   ]
  },
  {
   "cell_type": "code",
   "execution_count": 20,
   "metadata": {},
   "outputs": [
    {
     "name": "stdout",
     "output_type": "stream",
     "text": [
      "{5: 248, 6: 53}\n"
     ]
    }
   ],
   "source": [
    "initial_guess = ['shelf','dirty', 'bacon', 'grump']\n",
    "word_guess_count_freq4 = {}\n",
    "epochs = 20\n",
    "cnt=0\n",
    "for secret_word in words_db:\n",
    "    sum_NumberOfGuess = 0\n",
    "    for epoch in range(epochs):\n",
    "        sum_NumberOfGuess += my_function.main(initial_guess, secret_word)\n",
    "    mean_NumberOfGuess = round(sum_NumberOfGuess/epochs)\n",
    "    if mean_NumberOfGuess not in word_guess_count_freq4:\n",
    "        word_guess_count_freq4[mean_NumberOfGuess] = 1\n",
    "    else:\n",
    "        word_guess_count_freq4[mean_NumberOfGuess] += 1\n",
    "    cnt += 1\n",
    "    if cnt>300:\n",
    "        break\n",
    "print(word_guess_count_freq4)"
   ]
  },
  {
   "cell_type": "markdown",
   "metadata": {},
   "source": [
    "## Method - 5"
   ]
  },
  {
   "cell_type": "code",
   "execution_count": 22,
   "metadata": {},
   "outputs": [
    {
     "name": "stdout",
     "output_type": "stream",
     "text": [
      "{6: 283, 7: 18}\n"
     ]
    }
   ],
   "source": [
    "initial_guess = ['fjord', 'gucks', 'nymph', 'vibex', 'waltz']\n",
    "word_guess_count_freq4 = {}\n",
    "epochs = 20\n",
    "cnt=0\n",
    "for secret_word in words_db:\n",
    "    sum_NumberOfGuess = 0\n",
    "    for epoch in range(epochs):\n",
    "        sum_NumberOfGuess += my_function.main(initial_guess, secret_word)\n",
    "    mean_NumberOfGuess = round(sum_NumberOfGuess/epochs)\n",
    "    if mean_NumberOfGuess not in word_guess_count_freq4:\n",
    "        word_guess_count_freq4[mean_NumberOfGuess] = 1\n",
    "    else:\n",
    "        word_guess_count_freq4[mean_NumberOfGuess] += 1\n",
    "    cnt += 1\n",
    "    if cnt>300:\n",
    "        break\n",
    "print(word_guess_count_freq4)"
   ]
  }
 ],
 "metadata": {
  "kernelspec": {
   "display_name": "Python 3",
   "language": "python",
   "name": "python3"
  },
  "language_info": {
   "codemirror_mode": {
    "name": "ipython",
    "version": 3
   },
   "file_extension": ".py",
   "mimetype": "text/x-python",
   "name": "python",
   "nbconvert_exporter": "python",
   "pygments_lexer": "ipython3",
   "version": "3.9.7"
  }
 },
 "nbformat": 4,
 "nbformat_minor": 2
}
